{
 "cells": [
  {
   "cell_type": "markdown",
   "metadata": {},
   "source": [
    "# Task 3: Automation with Github Actions\n",
    "\n",
    "## Goals of this task:\n",
    "- Learn about CI\n",
    "- Automate your test suite with Github Actions"
   ]
  },
  {
   "cell_type": "markdown",
   "metadata": {},
   "source": [
    "Tests are only useful if they are run.\n",
    "\n",
    "Option 1: run the test suite manually/locally every once in a while (and hope you won't forget!)\n",
    "\n",
    "Option 2: **automate it!**\n",
    "\n",
    "[*Continuous Integration*](https://www.cloudbees.com/continuous-delivery/continuous-integration) (CI) is the practice of integrating your changes to the code continuously.\n",
    "The goal of CI is to reduce the issues linked to integration by automating the build and test processes.\n",
    "With a performant CI workflow, mistakes are detected very quickly and therefore fixed on the spot (and not when your code is already in production).\n",
    "\n",
    "\n",
    "> **Note**:\n",
    ">\n",
    "> Continuous Delivery/Deployment (CD) goes beyond CI by also automating the release and deployment of the code (*eg* pypi, Docker, etc.)\n",
    ">\n",
    "\n",
    "\n",
    "In this task, we are going to set up an automated CI workflow with [GitHub Actions](https://github.com/features/actions?utm_source=google&utm_medium=ppc&utm_campaign=2022q3-adv-WW-Google_Search-eg_brand&scid=7013o000002CdxYAAS&gclid=Cj0KCQjwz7uRBhDRARIsAFqjullHsc46nQcmEGGfPsaoTNW4oMjL_Xlem-wtNh7tRIkWVr9Y8Hvy7nYaAuaNEALw_wcB).\n"
   ]
  },
  {
   "cell_type": "markdown",
   "metadata": {},
   "source": [
    "### **Task: create a new Github Actions workflow**\n",
    "To add a new workflow in Github Actions, create a new file `.github/workflows/ci.yml` containing the following YAML script:\n",
    "\n",
    "```yaml\n",
    "name: CI workflow\n",
    "\n",
    "on: push\n",
    "\n",
    "jobs:\n",
    "  build:\n",
    "\n",
    "    runs-on: ubuntu-latest\n",
    "\n",
    "    steps:\n",
    "    - uses: actions/checkout@v2\n",
    "    - name: Set up Python 3.10\n",
    "      uses: actions/setup-python@v2\n",
    "      with:\n",
    "        python-version: \"3.10\"\n",
    "\n",
    "    - name: Install dependencies\n",
    "      run: |\n",
    "        python -m pip install --upgrade pip\n",
    "        pip install pytest-cov\n",
    "\n",
    "    - name: Test with pytest\n",
    "      run: |\n",
    "        pytest . --cov=calculator\n",
    "```\n",
    "\n",
    "Your project should look like this:\n",
    "\n",
    "```\n",
    "Code-testing-workshop\n",
    "├── .github\n",
    "|   └── workflows\n",
    "|       └── ci.yml\n",
    "├── calculator\n",
    "|   ├── __init__.py\n",
    "|   ├── main.py\n",
    "|   └── polynomial.py\n",
    "├── tasks\n",
    "├── tests\n",
    "├── .gitignore\n",
    "└── README.md\n",
    "```"
   ]
  },
  {
   "cell_type": "markdown",
   "metadata": {},
   "source": [
    "Now commit and push your changes.\n",
    "\n",
    "You should be able to see on GitHub that your push triggered the Github Actions workflow.\n",
    "\n",
    "From now on, all your changes that are pushed to the repository will trigger the test suite and any breaking changes will be caught on the spot!\n",
    "\n",
    "\n",
    "**Other CI providers**:\n",
    "- [CircleCI](https://circleci.com/)\n",
    "- [Jenkins](https://www.jenkins.io/)"
   ]
  }
 ],
 "metadata": {
  "language_info": {
   "name": "python"
  },
  "orig_nbformat": 4
 },
 "nbformat": 4,
 "nbformat_minor": 2
}
