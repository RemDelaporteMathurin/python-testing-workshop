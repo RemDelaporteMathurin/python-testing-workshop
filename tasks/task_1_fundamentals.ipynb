{
 "cells": [
  {
   "cell_type": "markdown",
   "metadata": {},
   "source": [
    "# Task 1: Testing Fundamentals\n",
    "\n",
    "## Goals of this task:\n",
    "- To learn the basics of code testing with python\n",
    "- To learn how to **write tests** and run them with **pytest**\n",
    "- To learn about **code coverage** and how to increase it"
   ]
  },
  {
   "cell_type": "markdown",
   "metadata": {},
   "source": [
    "Let's start with this simple `add` function:"
   ]
  },
  {
   "cell_type": "code",
   "execution_count": 1,
   "metadata": {},
   "outputs": [],
   "source": [
    "def add(a, b):\n",
    "    return a + b"
   ]
  },
  {
   "cell_type": "markdown",
   "metadata": {},
   "source": [
    "A test for `add` would test that if `1`and `2` are given as inputs, the value `3` is returned:"
   ]
  },
  {
   "cell_type": "code",
   "execution_count": 2,
   "metadata": {},
   "outputs": [],
   "source": [
    "def test_add():\n",
    "    assert add(1, 2) == 3\n",
    "\n",
    "\n",
    "test_add()"
   ]
  },
  {
   "cell_type": "markdown",
   "metadata": {},
   "source": [
    "### **Task: run the test file**\n",
    "\n",
    "Tests are usually written in a seperate test file and run using `pytest`.\n",
    "\n",
    "The file `tests/test_task1.py`, contains only one test for the `add` function.\n",
    "\n",
    "Run it with:\n",
    "```\n",
    "pytest tests/test_task1.py\n",
    "```\n",
    "\n",
    "You should see the following:"
   ]
  },
  {
   "cell_type": "code",
   "execution_count": 2,
   "metadata": {},
   "outputs": [
    {
     "name": "stdout",
     "output_type": "stream",
     "text": [
      "============================= test session starts =============================\n",
      "platform win32 -- Python 3.8.6, pytest-6.2.5, py-1.11.0, pluggy-1.0.0\n",
      "rootdir: d:\\Projets\\Divers\\code_testing_workshop\n",
      "plugins: dash-2.0.0, cov-3.0.0\n",
      "collected 2 items\n",
      "\n",
      "..\\tests\\test_task1.py ..                                                [100%]\n",
      "\n",
      "============================== 2 passed in 0.03s ==============================\n"
     ]
    }
   ],
   "source": [
    "!pytest ../tests/test_task1.py"
   ]
  },
  {
   "cell_type": "markdown",
   "metadata": {},
   "source": [
    "### **Task: write tests for the three public functions of `calculator`: `add`, `multiply`, `divide`.**\n",
    "\n",
    "The test coverage represents how much of the code has been tested when the test suite was executed.\n",
    "The higher the test coverage, the better. The reason is that untested code can hide bugs (see Task 2).\n",
    "\n",
    "What code coverage did you get here?\n",
    "\n",
    "> **Tip**: you can compute the coverage by running\n",
    "> ```\n",
    "> pytest tests/test_task1.py --cov=calculator.main\n",
    "> ```"
   ]
  },
  {
   "cell_type": "markdown",
   "metadata": {},
   "source": [
    "### **Task: reach 90% coverage.**\n",
    "\n",
    "Try and increase the coverage by adding tests or extending existing ones.\n",
    "\n",
    "> **Tip**: you can see which lines were hit by adding the `--cov-report html` argument\n",
    "> ```\n",
    "> pytest tests/test_task1.py --cov-report html --cov=calculator.main\n",
    "> ```"
   ]
  },
  {
   "cell_type": "markdown",
   "metadata": {},
   "source": [
    "### **Bonus task: can you get 100% coverage?**\n",
    "\n",
    "Try to get 100% coverage of `calculator.main`.\n",
    "\n",
    "> **Tip**:\n",
    ">\n",
    "> You may want to take a look at [this](https://docs.pytest.org/en/6.2.x/assert.html#assertions-about-expected-exceptions)..."
   ]
  },
  {
   "cell_type": "markdown",
   "metadata": {},
   "source": [
    "## **Solution**\n",
    "The solution can be found in [`tests/test_task1_solution.py`](https://github.com/RemDelaporteMathurin/python-testing-workshop/blob/main/tests/test_task1_solution.py)"
   ]
  }
 ],
 "metadata": {
  "interpreter": {
   "hash": "f23faf4bfe871c203c8bec80520af5927fc7cb1ae3bd834ddf554ee587ad1c05"
  },
  "kernelspec": {
   "display_name": "Python 3.8.6 64-bit",
   "language": "python",
   "name": "python3"
  },
  "language_info": {
   "codemirror_mode": {
    "name": "ipython",
    "version": 3
   },
   "file_extension": ".py",
   "mimetype": "text/x-python",
   "name": "python",
   "nbconvert_exporter": "python",
   "pygments_lexer": "ipython3",
   "version": "3.9.10"
  },
  "orig_nbformat": 4
 },
 "nbformat": 4,
 "nbformat_minor": 2
}
