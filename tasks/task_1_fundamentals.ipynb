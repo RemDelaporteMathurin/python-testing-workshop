{
 "cells": [
  {
   "cell_type": "markdown",
   "metadata": {},
   "source": [
    "# Task 1: Testing Fundamentals\n",
    "\n",
    "## Goals of this section:\n",
    "- ..."
   ]
  },
  {
   "cell_type": "markdown",
   "metadata": {},
   "source": [
    "Let's start with that simple function:"
   ]
  },
  {
   "cell_type": "code",
   "execution_count": 1,
   "metadata": {},
   "outputs": [],
   "source": [
    "def add(a, b):\n",
    "    return a + b"
   ]
  },
  {
   "cell_type": "code",
   "execution_count": 5,
   "metadata": {},
   "outputs": [],
   "source": [
    "def test_add():\n",
    "    assert add(1, 2) == 3\n",
    "\n",
    "\n",
    "test_add()"
   ]
  },
  {
   "cell_type": "markdown",
   "metadata": {},
   "source": [
    "Tests are usually written in a seperate test file and run using pytest\n",
    "\n",
    "Try it by running:\n",
    "```\n",
    "pytest tests/test_task1.py\n",
    "```"
   ]
  },
  {
   "cell_type": "code",
   "execution_count": 2,
   "metadata": {},
   "outputs": [
    {
     "name": "stdout",
     "output_type": "stream",
     "text": [
      "============================= test session starts =============================\n",
      "platform win32 -- Python 3.8.6, pytest-6.2.5, py-1.11.0, pluggy-1.0.0\n",
      "rootdir: d:\\Projets\\Divers\\code_testing_workshop\n",
      "plugins: dash-2.0.0, cov-3.0.0\n",
      "collected 2 items\n",
      "\n",
      "..\\tests\\test_task1.py ..                                                [100%]\n",
      "\n",
      "============================== 2 passed in 0.03s ==============================\n"
     ]
    }
   ],
   "source": [
    "!pytest ../tests/test_task1.py"
   ]
  },
  {
   "cell_type": "markdown",
   "metadata": {},
   "source": [
    "The file `tests/test_task1.py`, contains only one test for the `add` function.\n",
    "\n",
    "### **Task: write tests for the three public functions of `calculator`: `add`, `multiply`, `divide`.**"
   ]
  },
  {
   "cell_type": "markdown",
   "metadata": {},
   "source": [
    "What code coverage did you get?\n",
    "\n",
    "### **Task: reach 96% coverage.**\n",
    "\n",
    "Note: you can compute the coverage by running:\n",
    "\n",
    "```\n",
    "pytest ../tests/test_task1.py --cov=calculator.main\n",
    "```"
   ]
  }
 ],
 "metadata": {
  "interpreter": {
   "hash": "f23faf4bfe871c203c8bec80520af5927fc7cb1ae3bd834ddf554ee587ad1c05"
  },
  "kernelspec": {
   "display_name": "Python 3.8.6 64-bit",
   "language": "python",
   "name": "python3"
  },
  "language_info": {
   "codemirror_mode": {
    "name": "ipython",
    "version": 3
   },
   "file_extension": ".py",
   "mimetype": "text/x-python",
   "name": "python",
   "nbconvert_exporter": "python",
   "pygments_lexer": "ipython3",
   "version": "3.8.6"
  },
  "orig_nbformat": 4
 },
 "nbformat": 4,
 "nbformat_minor": 2
}
