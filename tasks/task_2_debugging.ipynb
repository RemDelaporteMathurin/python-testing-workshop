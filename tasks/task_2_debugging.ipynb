{
 "cells": [
  {
   "cell_type": "markdown",
   "metadata": {},
   "source": [
    "# Task 2: Debugging with tests\n",
    "\n",
    "## Goals of this task:\n",
    "- To learn how to catch and rapidly fix bugs with tests\n",
    "- To learn how an untested code can be hiding bugs"
   ]
  },
  {
   "cell_type": "markdown",
   "metadata": {},
   "source": [
    "Testing is also super useful to catch bugs and fix them.\n",
    "\n",
    "To demonstrate it, let's have a look at the module `calculator.polynomial`.\n",
    "\n",
    "We added a bug in it. As a result, some the tests in `tests/test_task2.py` fail.\n",
    "\n",
    "### **Task: By looking at the failing tests, fix the bug.**"
   ]
  },
  {
   "cell_type": "markdown",
   "metadata": {},
   "source": [
    "> **Solution**:\n",
    "> \n",
    "> When running the test suite, you can clearly see which part of the code is failing.\n",
    "> \n",
    "> There's something wrong with the function `root_polynomial`.\n",
    "> \n",
    "> From the test suite, we can see that there's a problem with the second root of the polynomial of degree 2 when the discriminant is positive.\n",
    "> \n",
    "> By looking at the right part of the code, you can quickly identify that there's a mistake in the line `root_2 = (-b + 1 + d**0.5)/(2*a)`.\n",
    "> It should be `root_2 = (-b + d**0.5)/(2*a)`.\n",
    "\n",
    "This test suite allowed us to easily:\n",
    "\n",
    "1) Catch the bug\n",
    "   \n",
    "2) Find its location in the code\n",
    "   \n",
    "3) Fix it\n",
    "\n",
    "\n",
    "But! Not so fast...\n",
    "\n",
    "Let's run the coverage of this module with the command `pytest tests/test_task2.py --cov=calculator.polynomial`.\n",
    "\n",
    "Hm, it's fairly low: 82%.\n",
    "\n",
    "We need to increase it."
   ]
  },
  {
   "cell_type": "markdown",
   "metadata": {},
   "source": [
    "###  **Task: find the untested part(s) of the code**\n",
    "Find which part of the code isn't tested.\n",
    "\n",
    "> Tip: you can see which lines were hit by adding the `--html` argument\n",
    "> ```\n",
    "> pytest tests/test_task2.py --html=coverage.html --cov=calculator\n",
    "> ```"
   ]
  },
  {
   "cell_type": "markdown",
   "metadata": {},
   "source": [
    "###  **Task: increase the coverage**\n",
    "\n",
    "The part of the code that isn't tested is the case where one finds the root of a polynomial of degree 0.\n",
    "\n",
    "`root_polynomial` should return `None` if the polynomial has no roots (_ie_ `c` is not zero) and `True` when all values of x are roots (_ie_ `c` is zero).\n",
    "\n",
    "Add a new test to `tests/test_task2.py`"
   ]
  },
  {
   "cell_type": "markdown",
   "metadata": {},
   "source": [
    "> **Solution**:\n",
    "> ```python\n",
    "> \n",
    "> def test_root_polynomial_degree0():\n",
    ">     \"\"\"Tests that degree 0 polynomial has roots\n",
    ">     \"\"\"\n",
    "> \n",
    ">     assert root_polynomial(0, 0, 1) is None\n",
    "> \n",
    ">     assert root_polynomial(0, 0, 0) is True\n",
    "> ```"
   ]
  },
  {
   "cell_type": "markdown",
   "metadata": {},
   "source": [
    "Let's run the tests again and check the coverage (`pytest tests/test_task2.py --cov=calculator.polynomial`).\n",
    "\n",
    "Now the coverage is way up and we caught a new bug!\n",
    "\n",
    "This bug was here all along.\n",
    "\n",
    "And because this part of the code wasn't tested by the test suite, all the tests passed and we didn't notice it.\n",
    "\n",
    "###  **Task: fix the bug!**"
   ]
  },
  {
   "cell_type": "markdown",
   "metadata": {},
   "source": [
    "> **Solution**:\n",
    "> \n",
    "> The failing test is the case where all values of x are roots (_ie_, a=b=c=0).\n",
    "> `root_polynomial` should return `True` but instead returns `None`.\n",
    "> \n",
    "> To fix it, in `root_degree_0`, change:\n",
    "> ```python\n",
    "> if a == 0:\n",
    ">     print(\"All numbers are roots.\")\n",
    ">     return None\n",
    "> ```\n",
    "> to\n",
    "> ```python\n",
    "> if a == 0:\n",
    ">     print(\"All numbers are roots.\")\n",
    ">     return True\n",
    "> ```"
   ]
  },
  {
   "cell_type": "markdown",
   "metadata": {},
   "source": [
    "## What have we learned?\n",
    "\n",
    "1) An extensive test suite helps the development by catching bugs\n",
    "   \n",
    "2) A code that isn't tested or isn't tested enough may be hiding bugs, so\n",
    "   \n",
    "3) Always keep your code coverage high!"
   ]
  }
 ],
 "metadata": {
  "interpreter": {
   "hash": "f23faf4bfe871c203c8bec80520af5927fc7cb1ae3bd834ddf554ee587ad1c05"
  },
  "kernelspec": {
   "display_name": "Python 3",
   "language": "python",
   "name": "python3"
  },
  "language_info": {
   "codemirror_mode": {
    "name": "ipython",
    "version": 3
   },
   "file_extension": ".py",
   "mimetype": "text/x-python",
   "name": "python",
   "nbconvert_exporter": "python",
   "pygments_lexer": "ipython3",
   "version": "3.8.6"
  }
 },
 "nbformat": 4,
 "nbformat_minor": 4
}
