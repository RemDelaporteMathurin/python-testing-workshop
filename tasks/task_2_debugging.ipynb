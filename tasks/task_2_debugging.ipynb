{
 "cells": [
  {
   "cell_type": "markdown",
   "metadata": {},
   "source": [
    "# Task 2: Debugging with tests\n",
    "\n",
    "## Goals of this section:\n",
    "- ..."
   ]
  },
  {
   "cell_type": "markdown",
   "metadata": {},
   "source": [
    "Testing is also super useful to catch bugs and fix them.\n",
    "\n",
    "To demonstrate it, let's have a look at the module `calculator.polynomial`.\n",
    "\n",
    "We added a bug in it. As a result, some the tests in `tests/test_task2.py` now fail.\n",
    "\n",
    "**Task: by looking at the failing tests, fix the bug.**"
   ]
  },
  {
   "cell_type": "markdown",
   "metadata": {},
   "source": [
    "Solution:\n",
    "\n",
    "When running the test suite, you can clearly see which part of the code is failing.\n",
    "\n",
    "There's something wrong with the second root of the polynomial of degree 2 when the discriminant is positive.\n",
    "By looking at the right part of the code, you can quickly identify that there's a mistake in the line `root_2 = (-b + 1 + d**0.5)/(2*a)`.\n",
    "It should be `root_2 = (-b + d**0.5)/(2*a)`.\n",
    "\n",
    "This test suite allows us to easily:\n",
    "1) Catch bugs\n",
    "2) Find the bugs locations in the code\n",
    "3) Fix them"
   ]
  },
  {
   "cell_type": "markdown",
   "metadata": {},
   "source": [
    "The second task should be a bug that isn't caught by the test suite because the coverage was too low."
   ]
  }
 ],
 "metadata": {
  "language_info": {
   "name": "python"
  },
  "orig_nbformat": 4
 },
 "nbformat": 4,
 "nbformat_minor": 2
}
